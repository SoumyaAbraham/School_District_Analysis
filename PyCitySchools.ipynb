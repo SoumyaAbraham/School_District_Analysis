{
 "cells": [
  {
   "cell_type": "code",
   "execution_count": 6,
   "id": "ff49e30f",
   "metadata": {},
   "outputs": [],
   "source": [
    "import pandas as pd\n",
    "import numpy as np\n",
    "import os"
   ]
  },
  {
   "cell_type": "code",
   "execution_count": 22,
   "id": "ac8206ac",
   "metadata": {},
   "outputs": [
    {
     "data": {
      "text/plain": [
       "Bailey High School       4976\n",
       "Johnson High School      4761\n",
       "Hernandez High School    4635\n",
       "Rodriguez High School    3999\n",
       "Figueroa High School     2949\n",
       "Huang High School        2917\n",
       "Ford High School         2739\n",
       "Wilson High School       2283\n",
       "Cabrera High School      1858\n",
       "Wright High School       1800\n",
       "Shelton High School      1761\n",
       "Thomas High School       1635\n",
       "Griffin High School      1468\n",
       "Pena High School          962\n",
       "Holden High School        427\n",
       "Name: school_name, dtype: int64"
      ]
     },
     "execution_count": 22,
     "metadata": {},
     "output_type": "execute_result"
    }
   ],
   "source": [
    "#Files to load\n",
    "school_csv= os.path.join(\"Resources\" , \"schools_complete.csv\")\n",
    "student_csv= os.path.join(\"Resources\" , \"students_complete.csv\")\n",
    "\n",
    "#Import csvs as dataframes\n",
    "school_df= pd.read_csv(school_csv)\n",
    "student_df= pd.read_csv(student_csv)\n",
    "\n",
    "school_df.shape\n",
    "student_df[\"school_name\"].value_counts()\n"
   ]
  },
  {
   "cell_type": "code",
   "execution_count": 24,
   "id": "0bd33880",
   "metadata": {},
   "outputs": [
    {
     "data": {
      "text/plain": [
       "Huang High School        1\n",
       "Figueroa High School     1\n",
       "Shelton High School      1\n",
       "Hernandez High School    1\n",
       "Griffin High School      1\n",
       "Wilson High School       1\n",
       "Cabrera High School      1\n",
       "Bailey High School       1\n",
       "Holden High School       1\n",
       "Pena High School         1\n",
       "Wright High School       1\n",
       "Rodriguez High School    1\n",
       "Johnson High School      1\n",
       "Ford High School         1\n",
       "Thomas High School       1\n",
       "Name: school_name, dtype: int64"
      ]
     },
     "execution_count": 24,
     "metadata": {},
     "output_type": "execute_result"
    }
   ],
   "source": [
    "school_df[\"school_name\"].value_counts()"
   ]
  },
  {
   "cell_type": "code",
   "execution_count": null,
   "id": "78408039",
   "metadata": {},
   "outputs": [],
   "source": []
  }
 ],
 "metadata": {
  "kernelspec": {
   "display_name": "PythonData",
   "language": "python",
   "name": "pythondata"
  },
  "language_info": {
   "codemirror_mode": {
    "name": "ipython",
    "version": 3
   },
   "file_extension": ".py",
   "mimetype": "text/x-python",
   "name": "python",
   "nbconvert_exporter": "python",
   "pygments_lexer": "ipython3",
   "version": "3.7.13"
  }
 },
 "nbformat": 4,
 "nbformat_minor": 5
}
